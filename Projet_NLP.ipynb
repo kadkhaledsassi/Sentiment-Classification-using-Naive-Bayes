{
  "nbformat": 4,
  "nbformat_minor": 0,
  "metadata": {
    "colab": {
      "provenance": []
    },
    "kernelspec": {
      "name": "python3",
      "display_name": "Python 3"
    },
    "language_info": {
      "name": "python"
    }
  },
  "cells": [
    {
      "cell_type": "code",
      "execution_count": 4,
      "metadata": {
        "colab": {
          "base_uri": "https://localhost:8080/"
        },
        "id": "8b6NvG6yEATd",
        "outputId": "79bb4cdb-2721-4cd8-f78a-c262354e913a"
      },
      "outputs": [
        {
          "output_type": "stream",
          "name": "stdout",
          "text": [
            "<class 'pandas.core.frame.DataFrame'>\n",
            "RangeIndex: 1769 entries, 0 to 1768\n",
            "Data columns (total 2 columns):\n",
            " #   Column    Non-Null Count  Dtype  \n",
            "---  ------    --------------  -----  \n",
            " 0   Sentence  1769 non-null   object \n",
            " 1   Label     1748 non-null   float64\n",
            "dtypes: float64(1), object(1)\n",
            "memory usage: 27.8+ KB\n",
            "None\n",
            "                                            Sentence  Label\n",
            "0  A very, very, very slow-moving, aimless movie ...    0.0\n",
            "1  Not sure who was more lost - the flat characte...    0.0\n",
            "2  Attempting artiness with black & white and cle...    0.0\n",
            "3       Very little music or anything to speak of.      0.0\n",
            "4  The best scene in the movie was when Gerardo i...    1.0\n",
            "\n",
            "Duplicate rows: 16\n",
            "\n",
            "Label distribution:\n",
            " Label\n",
            "1.0    877\n",
            "0.0    858\n",
            "Name: count, dtype: int64\n"
          ]
        }
      ],
      "source": [
        "import pandas as pd\n",
        "\n",
        "# Load datasets\n",
        "imdb_data = pd.read_csv('Tal/imdb_labelled.txt', delimiter='\\t', header=None, names=['Sentence', 'Label'])\n",
        "amazon_data = pd.read_csv('Tal/amazon_cells_labelled.txt', delimiter='\\t', header=None, names=['Sentence', 'Label'])\n",
        "readme_data = pd.read_csv('Tal/readme.txt', delimiter='\\t', header=None, names=['Sentence', 'Label'])\n",
        "\n",
        "# Merge datasets\n",
        "df = pd.concat([imdb_data, amazon_data, readme_data], ignore_index=True)\n",
        "\n",
        "# Inspect data\n",
        "print(df.info())  # Check for missing values and data types\n",
        "print(df.head())  # View first 5 rows\n",
        "\n",
        "# Check for duplicates\n",
        "print(\"\\nDuplicate rows:\", df.duplicated().sum())\n",
        "df = df.drop_duplicates()\n",
        "\n",
        "# Ensure balanced dataset\n",
        "print(\"\\nLabel distribution:\\n\", df['Label'].value_counts())\n"
      ]
    },
    {
      "cell_type": "code",
      "source": [
        "import nltk\n",
        "import re\n",
        "from nltk.corpus import stopwords\n",
        "from nltk.stem import WordNetLemmatizer\n",
        "from nltk.tokenize import word_tokenize\n",
        "import pandas as pd\n",
        "\n",
        "# Ensure fresh downloads of necessary resources\n",
        "nltk.download('punkt_tab', force=True)\n",
        "nltk.download('wordnet')\n",
        "nltk.download('stopwords')\n",
        "\n",
        "# Initialize the lemmatizer\n",
        "lemmatizer = WordNetLemmatizer()\n",
        "stop_words = set(stopwords.words('english'))  # Load stopwords once\n",
        "\n",
        "def preprocess_text(text):\n",
        "    # Lowercase the text\n",
        "    text = text.lower()\n",
        "    # Remove punctuation and numbers\n",
        "    text = re.sub(r'[^a-z\\s]', '', text)\n",
        "    # Tokenize the text\n",
        "    tokens = word_tokenize(text)\n",
        "    # Remove stopwords and lemmatize\n",
        "    tokens = [lemmatizer.lemmatize(word) for word in tokens if word not in stop_words]\n",
        "    return ' '.join(tokens)\n",
        "\n",
        "# Example DataFrame\n",
        "data = {'Sentence': ['This is a sample sentence.', 'Another example, with numbers: 123.']}\n",
        "df = pd.DataFrame(data)\n",
        "\n",
        "# Apply preprocessing\n",
        "df['Cleaned_Sentence'] = df['Sentence'].apply(preprocess_text)\n",
        "\n",
        "# Display the result\n",
        "print(df.head())\n"
      ],
      "metadata": {
        "colab": {
          "base_uri": "https://localhost:8080/"
        },
        "id": "ATx2FweqEanR",
        "outputId": "f9c1a527-258f-4876-b4a3-17dfa7aa888b"
      },
      "execution_count": 6,
      "outputs": [
        {
          "output_type": "stream",
          "name": "stderr",
          "text": [
            "[nltk_data] Downloading package punkt_tab to /root/nltk_data...\n",
            "[nltk_data]   Unzipping tokenizers/punkt_tab.zip.\n"
          ]
        },
        {
          "output_type": "stream",
          "name": "stdout",
          "text": [
            "                              Sentence        Cleaned_Sentence\n",
            "0           This is a sample sentence.         sample sentence\n",
            "1  Another example, with numbers: 123.  another example number\n"
          ]
        },
        {
          "output_type": "stream",
          "name": "stderr",
          "text": [
            "[nltk_data] Downloading package wordnet to /root/nltk_data...\n",
            "[nltk_data]   Package wordnet is already up-to-date!\n",
            "[nltk_data] Downloading package stopwords to /root/nltk_data...\n",
            "[nltk_data]   Package stopwords is already up-to-date!\n"
          ]
        }
      ]
    },
    {
      "cell_type": "code",
      "source": [
        "import pandas as pd\n",
        "from sklearn.feature_extraction.text import TfidfVectorizer\n",
        "\n",
        "# Example DataFrame\n",
        "data = {\n",
        "    'Sentence': ['This is a sample sentence.', 'Another example, with numbers: 123.'],\n",
        "    'Label': [0, 1]  # Example labels\n",
        "}\n",
        "df = pd.DataFrame(data)\n",
        "\n",
        "# Preprocessed sentences (assuming 'Cleaned_Sentence' is available from previous code)\n",
        "df['Cleaned_Sentence'] = ['sample sentence', 'another example number']  # Example cleaned sentences\n",
        "\n",
        "# Configure TF-IDF vectorizer\n",
        "vectorizer = TfidfVectorizer(max_features=2000,  # Limit number of features\n",
        "                             ngram_range=(1, 2),  # Unigrams and bigrams\n",
        "                             stop_words='english')\n",
        "\n",
        "# Fit and transform the text data\n",
        "X = vectorizer.fit_transform(df['Cleaned_Sentence'])\n",
        "y = df['Label']  # Labels for supervised tasks\n",
        "\n",
        "# Display feature names and sample transformed data\n",
        "print(\"Top 10 feature names:\", vectorizer.get_feature_names_out()[:10])\n",
        "print(\"\\nShape of feature matrix:\", X.shape)\n"
      ],
      "metadata": {
        "colab": {
          "base_uri": "https://localhost:8080/"
        },
        "id": "rtFYB-8_EiKO",
        "outputId": "86b75bd3-0da1-4c48-b6ec-62ff203e6c1e"
      },
      "execution_count": 8,
      "outputs": [
        {
          "output_type": "stream",
          "name": "stdout",
          "text": [
            "Top 10 feature names: ['example' 'example number' 'number' 'sample' 'sample sentence' 'sentence']\n",
            "\n",
            "Shape of feature matrix: (2, 6)\n"
          ]
        }
      ]
    },
    {
      "cell_type": "code",
      "source": [
        "from sklearn.model_selection import train_test_split\n",
        "from sklearn.naive_bayes import MultinomialNB\n",
        "\n",
        "# Split data into training and testing sets (80/20)\n",
        "X_train, X_test, y_train, y_test = train_test_split(X, y, test_size=0.2, random_state=42)\n",
        "\n",
        "# Initialize and train the Naive Bayes model\n",
        "model = MultinomialNB()\n",
        "model.fit(X_train, y_train)\n",
        "\n",
        "# Make predictions\n",
        "y_pred = model.predict(X_test)\n"
      ],
      "metadata": {
        "id": "fDWu9YKjEn8w"
      },
      "execution_count": 10,
      "outputs": []
    },
    {
      "cell_type": "code",
      "source": [
        "from sklearn.metrics import accuracy_score, classification_report, confusion_matrix, ConfusionMatrixDisplay\n",
        "import matplotlib.pyplot as plt\n",
        "\n",
        "# Calculate accuracy\n",
        "accuracy = accuracy_score(y_test, y_pred)\n",
        "print(\"Accuracy:\", accuracy)\n",
        "\n",
        "# Display detailed classification report\n",
        "print(\"\\nClassification Report:\\n\", classification_report(y_test, y_pred))\n",
        "\n",
        "# Confusion Matrix\n",
        "cm = confusion_matrix(y_test, y_pred)\n",
        "disp = ConfusionMatrixDisplay(confusion_matrix=cm, display_labels=['Negative', 'Positive'])\n",
        "disp.plot(cmap='Blues')\n",
        "plt.title('Confusion Matrix')\n",
        "plt.show()\n"
      ],
      "metadata": {
        "colab": {
          "base_uri": "https://localhost:8080/",
          "height": 909
        },
        "id": "Sc9L_8spEs6Y",
        "outputId": "dd84cf41-a1e6-4758-89a5-8c6909c6d424"
      },
      "execution_count": 11,
      "outputs": [
        {
          "output_type": "stream",
          "name": "stdout",
          "text": [
            "Accuracy: 0.0\n",
            "\n",
            "Classification Report:\n",
            "               precision    recall  f1-score   support\n",
            "\n",
            "           0       0.00      0.00      0.00       0.0\n",
            "           1       0.00      0.00      0.00       1.0\n",
            "\n",
            "    accuracy                           0.00       1.0\n",
            "   macro avg       0.00      0.00      0.00       1.0\n",
            "weighted avg       0.00      0.00      0.00       1.0\n",
            "\n"
          ]
        },
        {
          "output_type": "stream",
          "name": "stderr",
          "text": [
            "/usr/local/lib/python3.10/dist-packages/sklearn/metrics/_classification.py:1531: UndefinedMetricWarning: Precision is ill-defined and being set to 0.0 in labels with no predicted samples. Use `zero_division` parameter to control this behavior.\n",
            "  _warn_prf(average, modifier, f\"{metric.capitalize()} is\", len(result))\n",
            "/usr/local/lib/python3.10/dist-packages/sklearn/metrics/_classification.py:1531: UndefinedMetricWarning: Recall is ill-defined and being set to 0.0 in labels with no true samples. Use `zero_division` parameter to control this behavior.\n",
            "  _warn_prf(average, modifier, f\"{metric.capitalize()} is\", len(result))\n",
            "/usr/local/lib/python3.10/dist-packages/sklearn/metrics/_classification.py:1531: UndefinedMetricWarning: Precision is ill-defined and being set to 0.0 in labels with no predicted samples. Use `zero_division` parameter to control this behavior.\n",
            "  _warn_prf(average, modifier, f\"{metric.capitalize()} is\", len(result))\n",
            "/usr/local/lib/python3.10/dist-packages/sklearn/metrics/_classification.py:1531: UndefinedMetricWarning: Recall is ill-defined and being set to 0.0 in labels with no true samples. Use `zero_division` parameter to control this behavior.\n",
            "  _warn_prf(average, modifier, f\"{metric.capitalize()} is\", len(result))\n",
            "/usr/local/lib/python3.10/dist-packages/sklearn/metrics/_classification.py:1531: UndefinedMetricWarning: Precision is ill-defined and being set to 0.0 in labels with no predicted samples. Use `zero_division` parameter to control this behavior.\n",
            "  _warn_prf(average, modifier, f\"{metric.capitalize()} is\", len(result))\n",
            "/usr/local/lib/python3.10/dist-packages/sklearn/metrics/_classification.py:1531: UndefinedMetricWarning: Recall is ill-defined and being set to 0.0 in labels with no true samples. Use `zero_division` parameter to control this behavior.\n",
            "  _warn_prf(average, modifier, f\"{metric.capitalize()} is\", len(result))\n"
          ]
        },
        {
          "output_type": "display_data",
          "data": {
            "text/plain": [
              "<Figure size 640x480 with 2 Axes>"
            ],
            "image/png": "[encoded data removed]"
          },
          "metadata": {}
        }
      ]
    }
  ]
}